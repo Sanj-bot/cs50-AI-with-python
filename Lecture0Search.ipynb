{
  "nbformat": 4,
  "nbformat_minor": 0,
  "metadata": {
    "colab": {
      "provenance": [],
      "authorship_tag": "ABX9TyOxWDaJWgFqwo+bXdGA3tHp",
      "include_colab_link": true
    },
    "kernelspec": {
      "name": "python3",
      "display_name": "Python 3"
    },
    "language_info": {
      "name": "python"
    }
  },
  "cells": [
    {
      "cell_type": "markdown",
      "metadata": {
        "id": "view-in-github",
        "colab_type": "text"
      },
      "source": [
        "<a href=\"https://colab.research.google.com/github/Sanj-bot/cs50-AI-with-python/blob/main/Lecture0Search.ipynb\" target=\"_parent\"><img src=\"https://colab.research.google.com/assets/colab-badge.svg\" alt=\"Open In Colab\"/></a>"
      ]
    },
    {
      "cell_type": "code",
      "execution_count": 1,
      "metadata": {
        "id": "WaWo6Kohqrx9"
      },
      "outputs": [],
      "source": [
        "import sys"
      ]
    },
    {
      "cell_type": "code",
      "source": [
        "\n",
        "class Node():\n",
        "  def __init__(self,state,parent,action):\n",
        "    self.state=state\n",
        "    self.parent=parent\n",
        "    self.action=action\n",
        "\n",
        "\n",
        "class StackFrontier():\n",
        "  def __init__(self):\n",
        "    self.frontier=[]\n",
        "\n",
        "  def add(self,node):\n",
        "    self.frontier.append(node)\n",
        "\n",
        "  def contains_state(self, state):\n",
        "    return any(node.state==state for node in self.frontier)\n",
        "\n",
        "\n",
        "  def empty(self):\n",
        "    return len(self.frontier)==0\n",
        "\n",
        "\n",
        "  def remove(self):\n",
        "    if self.empty():\n",
        "      raise Exception(\"empty frontier\")\n",
        "    else:\n",
        "      node=self.frontier[-1]\n",
        "      self.frontier=self.frontier[:-1]\n",
        "      return node\n",
        "\n",
        "\n",
        "\n",
        "class QueueFrontier(StackFrontier):\n",
        "  def remove(self):\n",
        "    if self.empty():\n",
        "      raise Exception(\"empty frontier\")\n",
        "    else:\n",
        "      node =self.frontier[0]\n",
        "      self.frontier=self.frontier[1:]\n",
        "      return node\n",
        "\n",
        "\n",
        "\n",
        "class Maze():\n",
        "\n",
        "\n",
        "\n",
        "\n",
        "\n",
        "\n",
        "\n",
        "\n"
      ],
      "metadata": {
        "colab": {
          "base_uri": "https://localhost:8080/",
          "height": 106
        },
        "id": "PsmWNpfSqxSW",
        "outputId": "f581848a-6f95-4364-d354-8daccca54287"
      },
      "execution_count": 2,
      "outputs": [
        {
          "output_type": "error",
          "ename": "SyntaxError",
          "evalue": "incomplete input (<ipython-input-2-06ab9aac746b>, line 40)",
          "traceback": [
            "\u001b[0;36m  File \u001b[0;32m\"<ipython-input-2-06ab9aac746b>\"\u001b[0;36m, line \u001b[0;32m40\u001b[0m\n\u001b[0;31m    \u001b[0m\n\u001b[0m    ^\u001b[0m\n\u001b[0;31mSyntaxError\u001b[0m\u001b[0;31m:\u001b[0m incomplete input\n"
          ]
        }
      ]
    },
    {
      "cell_type": "code",
      "source": [],
      "metadata": {
        "id": "Kn8NjxkasA1p"
      },
      "execution_count": null,
      "outputs": []
    }
  ]
}